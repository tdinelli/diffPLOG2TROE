{
 "cells": [
  {
   "cell_type": "code",
   "execution_count": 1,
   "id": "b8c19e71-c515-4ea1-a097-870c070b9d26",
   "metadata": {},
   "outputs": [],
   "source": [
    "import jax\n",
    "jax.config.update(\"jax_enable_x64\", True)\n",
    "from jax import grad, value_and_grad, jacfwd, jacrev\n",
    "import jax.numpy as jnp\n",
    "import matplotlib.pyplot as plt\n",
    "from scipy.optimize import minimize\n",
    "\n",
    "# Internal modules\n",
    "import os\n",
    "import sys\n",
    "current_file_dir = os.getcwd()\n",
    "module_path = os.path.abspath(os.path.join(current_file_dir, \"..\"))\n",
    "sys.path.append(module_path)\n",
    "from diffPLOG2TROE.falloff import compute_falloff\n",
    "from diffPLOG2TROE.pressure_logarithmic import compute_plog\n",
    "from diffPLOG2TROE.refitter import rmse_loss_function, ratio_loss_function, compute_pressure_limits"
   ]
  },
  {
   "cell_type": "code",
   "execution_count": 2,
   "id": "a8627d3b-edfb-4a7f-90ab-c8cab839d907",
   "metadata": {},
   "outputs": [
    {
     "name": "stdout",
     "output_type": "stream",
     "text": [
      "Temperature range -> 500.0 - 2500.0\n",
      "Pressure range    -> 12.589254117941675 - 50.11872336272722\n"
     ]
    }
   ],
   "source": [
    "constant_plog = jnp.array([\n",
    "    [1.00E-01, 7.23E+29, -5.32E+00, 110862.4],\n",
    "    [1.00E+00, 3.50E+30, -5.22E+00, 111163.3],\n",
    "    [1.00E+01, 1.98E+31, -5.16E+00, 111887.8],\n",
    "    [1.00E+02, 2.69E+31, -4.92E+00, 112778.7],\n",
    "], dtype=jnp.float64)\n",
    "T_range = jnp.linspace(500, 2500, 100)\n",
    "P_range = jnp.logspace(1.1, 1.7, 100)\n",
    "\n",
    "print(f\"Temperature range -> {T_range[0]} - {T_range[-1]}\")\n",
    "print(f\"Pressure range    -> {P_range[0]} - {P_range[-1]}\")\n",
    "\n",
    "fg = jnp.array([\n",
    "    1.98E+31, -5.16E+00, 111887.8,\n",
    "    2.69E+31, -4.92E+00, 112778.7,\n",
    "    0.1, 1., 1.0e+10, 1.0e+10\n",
    "], dtype=jnp.float64)\n",
    "# fg = compute_pressure_limits(constant_plog, fg, T_range, P_range)\n",
    "k_plog = compute_plog(constant_plog, T_range, P_range)"
   ]
  },
  {
   "cell_type": "code",
   "execution_count": 3,
   "id": "046a9678-290c-4ff9-9a5c-af2db5c2cbf5",
   "metadata": {},
   "outputs": [
    {
     "name": "stdout",
     "output_type": "stream",
     "text": [
      "Initial value for the loss_function: 95.14410783455618\n",
      "Optimization terminated successfully.\n",
      "         Current function value: 0.003284\n",
      "         Iterations: 3559\n",
      "         Function evaluations: 5431\n",
      "[ 1.03975641e+32 -3.70788072e+00  1.12081598e+05  9.62067016e+31\n",
      " -4.74832625e+00  1.10072417e+05  5.75022159e-02  4.20243116e+00\n",
      " -4.99230391e+08  5.08319131e+04]\n",
      "CPU times: user 2.22 s, sys: 241 ms, total: 2.46 s\n",
      "Wall time: 1.03 s\n"
     ]
    }
   ],
   "source": [
    "%%time\n",
    "# Global Optimization on all the parameters\n",
    "# data = (T_range, P_range, k_plog, fg[:6])\n",
    "data = (T_range, P_range, k_plog)\n",
    "loss_function = rmse_loss_function\n",
    "print(f\"Initial value for the loss_function: {loss_function(fg, data)}\")\n",
    "\n",
    "# NELDER-MEAD\n",
    "res = minimize(\n",
    "    loss_function,\n",
    "    fg,\n",
    "    args=(data,),\n",
    "    method=\"nelder-mead\",\n",
    "    options={\n",
    "        \"xatol\": 1e-10,\n",
    "        \"fatol\": 1e-15,\n",
    "        \"maxfev\": 100000,\n",
    "        \"disp\": True,\n",
    "    }\n",
    ")\n",
    "\n",
    "fg_local = res.x\n",
    "print(fg_local)"
   ]
  },
  {
   "cell_type": "code",
   "execution_count": 4,
   "id": "1ffebb21-ecf3-4880-8035-ce19828d72df",
   "metadata": {},
   "outputs": [
    {
     "name": "stdout",
     "output_type": "stream",
     "text": [
      "Optimization terminated successfully.\n",
      "         Current function value: 0.003284\n",
      "         Iterations: 23\n",
      "         Function evaluations: 24\n",
      "         Gradient evaluations: 24\n",
      "         Hessian evaluations: 23\n"
     ]
    }
   ],
   "source": [
    "# data = (T_range, P_range, k_plog, fg[:6])\n",
    "f = lambda p, data: loss_function(p, data)\n",
    "def hessian(f):\n",
    "    return jacfwd(jacrev(f))\n",
    "jacobian = grad(loss_function)\n",
    "hesso = hessian(f)(fg, data)\n",
    "\n",
    "res = minimize(\n",
    "     loss_function,\n",
    "     fg_local,\n",
    "     args=(data,),\n",
    "     jac=jacobian,\n",
    "     hess=hessian(f),\n",
    "     method=\"trust-ncg\",\n",
    "     options={\"gtol\": 1e-12, \"disp\": True}\n",
    ")"
   ]
  },
  {
   "cell_type": "code",
   "execution_count": 5,
   "id": "2b8ca17c-fe64-4a86-9102-e3df0b18b573",
   "metadata": {},
   "outputs": [
    {
     "name": "stdout",
     "output_type": "stream",
     "text": [
      " message: Optimization terminated successfully.\n",
      " success: True\n",
      "  status: 0\n",
      "     fun: 0.0032837858671623003\n",
      "       x: [ 1.040e+32 -3.707e+00  1.121e+05  9.621e+31 -4.747e+00\n",
      "            1.101e+05  5.709e-02  4.202e+00 -4.992e+08  5.107e+04]\n",
      "     nit: 23\n",
      "     jac: [-5.516e-36 -7.628e-14 -9.315e-15 -2.434e-36 -3.045e-14\n",
      "            4.449e-14 -2.834e-13  2.550e-52  6.843e-17 -6.159e-14]\n",
      "    nfev: 24\n",
      "    njev: 24\n",
      "    nhev: 23\n",
      "    hess: [[ 9.499e-65  7.143e-32 ...  8.826e-47 -8.435e-45]\n",
      "           [ 7.143e-32  5.394e+01 ...  6.776e-14 -6.826e-12]\n",
      "           ...\n",
      "           [ 8.826e-47  6.776e-14 ...  2.742e-25 -1.158e-26]\n",
      "           [-8.435e-45 -6.826e-12 ... -1.158e-26  2.551e-17]]\n",
      "[ 1.03975641e+32 -3.70788072e+00  1.12081598e+05  9.62067016e+31\n",
      " -4.74832625e+00  1.10072417e+05  5.75022159e-02  4.20243116e+00\n",
      " -4.99230391e+08  5.08319131e+04]\n",
      "[ 1.03975641e+32 -3.70727390e+00  1.12083649e+05  9.62067016e+31\n",
      " -4.74660622e+00  1.10057827e+05  5.70878248e-02  4.20243116e+00\n",
      " -4.99230391e+08  5.10719136e+04]\n",
      "[ 0.00000000e+00 -6.06823838e-04 -2.05077693e+00  0.00000000e+00\n",
      " -1.72002749e-03  1.45906493e+01  4.14391140e-04  0.00000000e+00\n",
      "  2.49050915e-01 -2.40000460e+02]\n"
     ]
    }
   ],
   "source": [
    "print(res)\n",
    "print(fg_local)\n",
    "print(res.x)\n",
    "print(fg_local - res.x)"
   ]
  },
  {
   "cell_type": "code",
   "execution_count": 6,
   "id": "9b754563-88dd-48e1-a7eb-8978e44af22c",
   "metadata": {},
   "outputs": [],
   "source": [
    "refitted_troe = (\n",
    "    jnp.array([\n",
    "        [res.x[0], res.x[1], res.x[2], 0.000],  # HPL, the fourth term is dummy\n",
    "        [res.x[3], res.x[4], res.x[5], 0.000],  # LPL, the fourth term is dummy\n",
    "        [res.x[6], res.x[7], res.x[8], res.x[9]],  # TROE parameters\n",
    "    ], dtype=jnp.float64),\n",
    "    1, # Lindemann -> 0, TROE -> 1, SRI -> 2\n",
    ")\n",
    "k_refitted = compute_falloff(refitted_troe, T_range, P_range)"
   ]
  },
  {
   "cell_type": "code",
   "execution_count": 7,
   "id": "06fcbf5a-0fea-4ad1-97c1-62c6aa8011cf",
   "metadata": {},
   "outputs": [
    {
     "data": {
      "image/png": "[encoded data removed]",
      "text/plain": [
       "<Figure size 640x480 with 2 Axes>"
      ]
     },
     "metadata": {},
     "output_type": "display_data"
    }
   ],
   "source": [
    "ratio = k_plog / k_refitted\n",
    "fig, ax = plt.subplots()\n",
    "\n",
    "c = ax.imshow(ratio, cmap='hot', interpolation='nearest')\n",
    "# ax.axis([x.min(), x.max(), y.min(), y.max()])\n",
    "fig.colorbar(c, ax=ax)\n",
    "\n",
    "plt.show()"
   ]
  }
 ],
 "metadata": {
  "kernelspec": {
   "display_name": "Python 3 (ipykernel)",
   "language": "python",
   "name": "python3"
  },
  "language_info": {
   "codemirror_mode": {
    "name": "ipython",
    "version": 3
   },
   "file_extension": ".py",
   "mimetype": "text/x-python",
   "name": "python",
   "nbconvert_exporter": "python",
   "pygments_lexer": "ipython3",
   "version": "3.12.4"
  }
 },
 "nbformat": 4,
 "nbformat_minor": 5
}
