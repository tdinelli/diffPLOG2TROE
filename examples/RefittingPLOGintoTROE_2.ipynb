{
 "cells": [
  {
   "cell_type": "code",
   "execution_count": 1,
   "id": "b8c19e71-c515-4ea1-a097-870c070b9d26",
   "metadata": {},
   "outputs": [],
   "source": [
    "import os\n",
    "import sys\n",
    "from functools import partial\n",
    "\n",
    "# Matplotlib and scipy\n",
    "import matplotlib.pyplot as plt\n",
    "import matplotlib.colors as mcolors\n",
    "from scipy.optimize import minimize\n",
    "\n",
    "# JAX stuff\n",
    "import jax\n",
    "jax.config.update(\"jax_enable_x64\", True)\n",
    "from jax import grad, value_and_grad\n",
    "import jax.numpy as jnp\n",
    "\n",
    "# OPTAX\n",
    "import optax\n",
    "import optax.tree_utils as otu\n",
    "\n",
    "# Internal modules\n",
    "current_file_dir = os.getcwd()\n",
    "module_path = os.path.abspath(os.path.join(current_file_dir, \"..\"))\n",
    "sys.path.append(module_path)\n",
    "from diffPLOG2TROE.falloff import compute_falloff\n",
    "from diffPLOG2TROE.pressure_logarithmic import compute_plog\n",
    "from diffPLOG2TROE.refitter import rmse_loss_function, compute_pressure_limits, run_lbfgs, print_info"
   ]
  },
  {
   "cell_type": "markdown",
   "id": "23d509c5-3ded-49ae-82aa-86469c1eb6ed",
   "metadata": {},
   "source": [
    "# Refitting a PLOG into a TROE\n",
    "1. First step compute the value of the kinetic constant of the PLOG across the ranges of pressure and temperature desired.\n",
    "2. Compute first guess values for the TROE kinetic constant formalism, we will need the three arrhenius parameters both for the High pressure and low pressure limits and the four parameters of the TROE fitting formalism.\n",
    "3. Run a global optimization to have reasonable values of the first guess. This should be fast something around 1s of wall time.\n",
    "4. Run a gradient base optimizer to refine the solution (L-BFGS, adam, adabelief ...)\n",
    "5. Finally evaluate the refitted constant by visual comparison, different plots are provided down below.\n",
    "\n",
    "Keep in mind that providing already a reasonable first guess is crucial for the success of the refitting."
   ]
  },
  {
   "cell_type": "code",
   "execution_count": 2,
   "id": "a8627d3b-edfb-4a7f-90ab-c8cab839d907",
   "metadata": {},
   "outputs": [
    {
     "name": "stdout",
     "output_type": "stream",
     "text": [
      "Temperature range -> 500.0 - 2500.0\n",
      "Pressure range    -> 12.589254117941675 - 50.11872336272722\n"
     ]
    }
   ],
   "source": [
    "constant_plog = jnp.array([\n",
    "    [1.00E-01, 7.23E+29, -5.32E+00, 110862.4],\n",
    "    [1.00E+00, 3.50E+30, -5.22E+00, 111163.3],\n",
    "    [1.00E+01, 1.98E+31, -5.16E+00, 111887.8],\n",
    "    [1.00E+02, 2.69E+31, -4.92E+00, 112778.7],\n",
    "], dtype=jnp.float64)\n",
    "\n",
    "T_range = jnp.linspace(500, 2500, 100)\n",
    "P_range = jnp.logspace(1.1, 1.7, 100)\n",
    "\n",
    "print(f\"Temperature range -> {T_range[0]} - {T_range[-1]}\")\n",
    "print(f\"Pressure range    -> {P_range[0]} - {P_range[-1]}\")\n",
    "\n",
    "fg = jnp.array([\n",
    "    1.98E+31, -5.16E+00, 111887.8,\n",
    "    2.69E+31, -4.92E+00, 112778.7,\n",
    "    0.1, 1., 1.0e+10, 1.0e+10\n",
    "], dtype=jnp.float64)\n",
    "\n",
    "# fg = compute_pressure_limits(constant_plog, fg, T_range, P_range)\n",
    "k_plog = compute_plog(constant_plog, T_range, P_range)"
   ]
  },
  {
   "cell_type": "code",
   "execution_count": 3,
   "id": "a9462ea7-c1ca-4316-b3b8-7bc1b4f3f28d",
   "metadata": {},
   "outputs": [
    {
     "name": "stdout",
     "output_type": "stream",
     "text": [
      "Initial value for the loss_function: 95.14410783455618\n",
      "Optimization terminated successfully.\n",
      "         Current function value: 0.003284\n",
      "         Iterations: 3559\n",
      "         Function evaluations: 5431\n",
      "CPU times: user 2.37 s, sys: 257 ms, total: 2.63 s\n",
      "Wall time: 1.12 s\n"
     ]
    }
   ],
   "source": [
    "%%time\n",
    "# Global Optimization on all the parameters to have a better estimate of the parameters\n",
    "data = (T_range, P_range, k_plog)\n",
    "loss_function = rmse_loss_function\n",
    "print(f\"Initial value for the loss_function: {loss_function(fg, data)}\")\n",
    "\n",
    "# NELDER-MEAD\n",
    "res = minimize(\n",
    "    loss_function,\n",
    "    fg,\n",
    "    args=(data,),\n",
    "    method=\"nelder-mead\",\n",
    "    options={\n",
    "        \"xatol\": 1e-10,\n",
    "        \"fatol\": 1e-15,\n",
    "        \"maxfev\": 100000,\n",
    "        \"disp\": True,\n",
    "    }\n",
    ")\n",
    "\n",
    "fg_local = res.x"
   ]
  },
  {
   "cell_type": "code",
   "execution_count": 6,
   "id": "d9d32d59-5d10-4242-b359-c3b270fbb861",
   "metadata": {
    "scrolled": true
   },
   "outputs": [
    {
     "name": "stdout",
     "output_type": "stream",
     "text": [
      "Initial value: 3.28392E-03 Initial gradient norm: 4.03857E-04\n",
      "Iteration: 0, Value: 0.003283916356143992, Gradient norm: 0.0004038573244923979\n",
      "Iteration: 20, Value: 0.003283810640618017, Gradient norm: 5.525786305154813e-06\n",
      "Iteration: 40, Value: 0.003283810640525519, Gradient norm: 2.7869008465348804e-07\n",
      "Iteration: 60, Value: 0.0032838106393732473, Gradient norm: 1.3009580581634185e-06\n",
      "Iteration: 80, Value: 0.0032838106156956857, Gradient norm: 7.02364254907535e-06\n",
      "Iteration: 100, Value: 0.0032838104954707077, Gradient norm: 3.8100910777714644e-05\n",
      "Iteration: 120, Value: 0.0032838088648462545, Gradient norm: 0.00036968244474381586\n",
      "Iteration: 140, Value: 0.003283795240396694, Gradient norm: 7.457747482062836e-05\n",
      "Iteration: 160, Value: 0.0032837915593784475, Gradient norm: 0.00030718785078398894\n",
      "Iteration: 180, Value: 0.003283790993903795, Gradient norm: 0.00024084056105202556\n",
      "Iteration: 200, Value: 0.003283786926400177, Gradient norm: 4.1188006013023344e-05\n",
      "Iteration: 220, Value: 0.003283786828213434, Gradient norm: 1.152962101148027e-05\n",
      "Iteration: 240, Value: 0.003283786773818588, Gradient norm: 4.4739184345294766e-05\n",
      "Iteration: 260, Value: 0.0032837866861394186, Gradient norm: 9.853193096220402e-06\n",
      "Iteration: 280, Value: 0.0032837865752316435, Gradient norm: 8.773883597984311e-06\n",
      "Iteration: 300, Value: 0.0032837864346659147, Gradient norm: 1.0472293212105299e-05\n",
      "Iteration: 320, Value: 0.003283785894390647, Gradient norm: 2.4967746087771716e-05\n",
      "Iteration: 340, Value: 0.0032837858827226164, Gradient norm: 8.956236882217939e-07\n",
      "Iteration: 360, Value: 0.003283785882703726, Gradient norm: 1.6013497820150244e-07\n",
      "Iteration: 380, Value: 0.0032837858827035105, Gradient norm: 4.967379904450149e-09\n",
      "Final value: 3.28379E-03, Final gradient norm: 9.36761E-11\n",
      "CPU times: user 1.51 s, sys: 32.6 ms, total: 1.54 s\n",
      "Wall time: 759 ms\n"
     ]
    }
   ],
   "source": [
    "%%time\n",
    "#### OPTIMIZER PARAMETERS\n",
    "MAXITER = 500\n",
    "TOL = 1e-10\n",
    "### Linesearch algorithm parameters\n",
    "MAXLS_STEPS = 50\n",
    "### ADDITIONAL OPTIONS\n",
    "PRINT_FREQ=20\n",
    "### Optimizer setup\n",
    "opt = optax.chain(\n",
    "    print_info(frequency=PRINT_FREQ),\n",
    "    optax.lbfgs(\n",
    "        linesearch=optax.scale_by_zoom_linesearch(\n",
    "            max_linesearch_steps=MAXLS_STEPS,\n",
    "            verbose=False\n",
    "        )\n",
    "    )\n",
    ")\n",
    "\n",
    "fg_work = fg_local.copy()\n",
    "data = (T_range, P_range, k_plog)\n",
    "loss_function = rmse_loss_function\n",
    "loss_function = partial(loss_function, data=data)\n",
    "print(\n",
    "    f\"Initial value: {loss_function(fg_work):.5E}\"\n",
    "    f\" Initial gradient norm: {otu.tree_l2_norm(jax.grad(loss_function)(fg_work)):.5E}\"\n",
    ")\n",
    "final_params, _ = run_lbfgs(\n",
    "    fg_work,\n",
    "    loss_function,\n",
    "    opt,\n",
    "    max_iter=MAXITER,\n",
    "    tol=TOL,\n",
    ")\n",
    "\n",
    "print(\n",
    "    f\"Final value: {loss_function(final_params):.5E}, \"\n",
    "    f\"Final gradient norm: {otu.tree_l2_norm(jax.grad(loss_function)(final_params)):.5E}\"\n",
    ")"
   ]
  },
  {
   "cell_type": "code",
   "execution_count": 7,
   "id": "9b754563-88dd-48e1-a7eb-8978e44af22c",
   "metadata": {},
   "outputs": [],
   "source": [
    "refitted_troe = (\n",
    "    jnp.array([\n",
    "        [final_params[0], final_params[1], final_params[2], 0.000],  # HPL, the fourth term is dummy\n",
    "        [final_params[3], final_params[4], final_params[5], 0.000],  # LPL, the fourth term is dummy\n",
    "        [final_params[6], final_params[7], final_params[8], final_params[9]],  # TROE parameters\n",
    "    ], dtype=jnp.float64),\n",
    "    1, # Lindemann -> 0, TROE -> 1, SRI -> 2\n",
    ")\n",
    "k_refitted = compute_falloff(refitted_troe, T_range, P_range)"
   ]
  },
  {
   "cell_type": "code",
   "execution_count": 8,
   "id": "06fcbf5a-0fea-4ad1-97c1-62c6aa8011cf",
   "metadata": {},
   "outputs": [
    {
     "data": {
      "image/png": "[encoded data removed]",
      "text/plain": [
       "<Figure size 640x480 with 2 Axes>"
      ]
     },
     "metadata": {},
     "output_type": "display_data"
    }
   ],
   "source": [
    "ratio = k_plog / k_refitted\n",
    "fig, ax = plt.subplots()\n",
    "\n",
    "c = ax.imshow(ratio, cmap='jet', interpolation='nearest')\n",
    "# ax.axis([x.min(), x.max(), y.min(), y.max()])\n",
    "fig.colorbar(c, ax=ax)\n",
    "\n",
    "plt.show()"
   ]
  },
  {
   "cell_type": "code",
   "execution_count": 9,
   "id": "14c65448-d55e-4884-a5ca-3823513b62db",
   "metadata": {},
   "outputs": [
    {
     "data": {
      "image/png": "[encoded data removed]",
      "text/plain": [
       "<Figure size 640x480 with 2 Axes>"
      ]
     },
     "metadata": {},
     "output_type": "display_data"
    }
   ],
   "source": [
    "ratio = jnp.log(k_plog) / jnp.log(k_refitted)\n",
    "\n",
    "vmin = 1e-1  # Set a custom lower value for the colormap\n",
    "vmax = 1e1   # Set a custom upper value for the colormap\n",
    "norm = mcolors.LogNorm(vmin=vmin, vmax=vmax)\n",
    "\n",
    "fig, ax = plt.subplots()\n",
    "c = ax.imshow(ratio, cmap=\"jet\", interpolation='none', norm=norm)\n",
    "cbar = fig.colorbar(c, ax=ax)\n",
    "\n",
    "plt.show()"
   ]
  }
 ],
 "metadata": {
  "kernelspec": {
   "display_name": "Python 3 (ipykernel)",
   "language": "python",
   "name": "python3"
  },
  "language_info": {
   "codemirror_mode": {
    "name": "ipython",
    "version": 3
   },
   "file_extension": ".py",
   "mimetype": "text/x-python",
   "name": "python",
   "nbconvert_exporter": "python",
   "pygments_lexer": "ipython3",
   "version": "3.12.4"
  }
 },
 "nbformat": 4,
 "nbformat_minor": 5
}
